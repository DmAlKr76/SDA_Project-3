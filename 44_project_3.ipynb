{
 "cells": [
  {
   "cell_type": "markdown",
   "metadata": {},
   "source": [
    "### ЦЕЛЬ:"
   ]
  },
  {
   "cell_type": "markdown",
   "metadata": {},
   "source": [
    "Исследовать поведение пользователей в обновлённом приложении."
   ]
  },
  {
   "cell_type": "markdown",
   "metadata": {},
   "source": [
    "### ЗАДАЧИ:"
   ]
  },
  {
   "cell_type": "markdown",
   "metadata": {},
   "source": [
    "1) Определить, насколько обучение сокращает время прохождения этапов игры.\n",
    "2) Доказать, что успешное обучение само по себе влияет на оплату и не имеет значения то, каким этапом оно шло.\n",
    "3) Определить, насколько прозрачен процесс взаимодействия с игрой."
   ]
  },
  {
   "cell_type": "markdown",
   "metadata": {},
   "source": [
    "### КОНКРЕТНЫЕ ШАГИ (ФОРМАЛИЗОВАННЫЕ ЗАДАЧИ):"
   ]
  },
  {
   "cell_type": "markdown",
   "metadata": {},
   "source": [
    "1) Сравнить время прохождения различных этапов для пользователей, которые завершили обучение, и пользователей, не начинавших обучение. Если показатель отличается, выяснить, насколько.\n",
    "2) Проверить, существует ли зависимость между вероятностью оплаты вопросов и количеством обучений, которые начинал или завершал пользователь. \n",
    "3) Выяснить, как часто пользователи начинают обучение после выбора уровня сложности. (Это позволит оценить прозрачность процесса взаимодействия с игрой: если пользователи после выбора уровня сложности обращаются к обучению, значит, работа с приложением непонятна.)"
   ]
  },
  {
   "cell_type": "markdown",
   "metadata": {},
   "source": [
    "Импортируем библиотеку и данные"
   ]
  },
  {
   "cell_type": "code",
   "execution_count": 285,
   "metadata": {},
   "outputs": [],
   "source": [
    "import pandas as pd\n",
    "\n",
    "events_df = pd.read_csv('events.csv')\n",
    "purchase_df = pd.read_csv('purchase.csv')"
   ]
  },
  {
   "cell_type": "markdown",
   "metadata": {},
   "source": [
    "Отфильтруем полученнные данные в соответствии с заданием и произведем преобразование типа и даты "
   ]
  },
  {
   "cell_type": "code",
   "execution_count": 286,
   "metadata": {},
   "outputs": [],
   "source": [
    "cond = (events_df.start_time>='2018-01-01') & (events_df.start_time<'2019-01-01') & (events_df.event_type=='registration')\n",
    "registered = events_df[cond]['user_id'].to_list()\n",
    "events_df = events_df[events_df.user_id.isin(registered)]\n",
    "events_df.start_time = pd.to_datetime(events_df.start_time, format='%Y-%m-%dT%H:%M:%S')\n",
    "\n",
    "purchase_df['event_type'] = 'purchase'\n",
    "purchase_df = purchase_df[purchase_df.user_id.isin(registered)]\n",
    "purchase_df.event_datetime = pd.to_datetime(purchase_df.event_datetime, format='%Y-%m-%dT%H:%M:%S')"
   ]
  },
  {
   "cell_type": "markdown",
   "metadata": {},
   "source": [
    "Переименуем колонки и произведем объединение"
   ]
  },
  {
   "cell_type": "code",
   "execution_count": 287,
   "metadata": {},
   "outputs": [],
   "source": [
    "events_df = events_df.rename(columns={'id':'event_id'})\n",
    "purchase_df = purchase_df.rename(columns={'id':'purchase_id'})\n",
    "\n",
    "total_events_df = pd.concat([events_df,purchase_df],sort=False)\n",
    "total_events_df = total_events_df.reset_index(drop=True).sort_values('start_time')"
   ]
  },
  {
   "cell_type": "markdown",
   "metadata": {},
   "source": [
    "Сравнить время прохождения различных этапов для пользователей, которые завершили обучение, и пользователей, не начинавших обучение. Распределим пользователей по группам, в зависимости от прохождения обучения (пользователи, которые завершили обучение, и пользователей, не начинавших обучение). Добавим признак в объединенный датафрейм."
   ]
  },
  {
   "cell_type": "code",
   "execution_count": 288,
   "metadata": {},
   "outputs": [],
   "source": [
    "users_with_finished_tutorial = total_events_df[total_events_df[\"event_type\"] == \"tutorial_finish\"][\"user_id\"].unique()\n",
    "set_users_with_finished_tutorial = set(users_with_finished_tutorial)\n",
    "\n",
    "users_with_started_tutorial = total_events_df[total_events_df[\"event_type\"] == \"tutorial_start\"][\"user_id\"].unique()\n",
    "set_users_with_started_tutorial = set(users_with_started_tutorial)\n",
    "\n",
    "all_users = total_events_df[\"user_id\"].unique()\n",
    "set_all_users = set(all_users)\n",
    "\n",
    "set_users_not_started_tutorial = set_all_users.difference(set_users_with_started_tutorial)\n",
    "set_users_not_finished_but_started_tutorial = (set_users_with_started_tutorial.difference(set(users_with_finished_tutorial)))\n",
    "\n",
    "total_events_df['group']=total_events_df.apply(\n",
    "    lambda x: 'Завершили обучение' if x['user_id'] in set_users_with_finished_tutorial else (\n",
    "        'Не начинали обучение' if x['user_id'] in set_users_not_started_tutorial else \n",
    "        'Не закончили обучение'), \n",
    "    axis=1)"
   ]
  },
  {
   "cell_type": "markdown",
   "metadata": {},
   "source": [
    "Проверим единичность событий кажтого этапа, чтобы выяснить в каких случаях необходимо удалить дубликаты."
   ]
  },
  {
   "cell_type": "code",
   "execution_count": 289,
   "metadata": {},
   "outputs": [
    {
     "name": "stdout",
     "output_type": "stream",
     "text": [
      "Проверка единичности события registration:  True\n",
      "Проверка единичности события tutorial_start:  False\n",
      "Проверка единичности события tutorial_finish:  False\n",
      "Проверка единичности события level_choice:  True\n",
      "Проверка единичности события pack_choice:  True\n"
     ]
    }
   ],
   "source": [
    "event_types = [\n",
    "    'registration',\n",
    "    'tutorial_start',\n",
    "    'tutorial_finish',\n",
    "    'level_choice',\n",
    "    'pack_choice',   \n",
    "]\n",
    "\n",
    "for event in event_types:\n",
    "    df= total_events_df[(total_events_df['event_type'] == event) & (total_events_df['user_id'].isin(users_with_finished_tutorial))]\n",
    "    print(f\"Проверка единичности события {event}: \", (df['user_id'].value_counts().mean()) == 1)"
   ]
  },
  {
   "cell_type": "markdown",
   "metadata": {},
   "source": [
    "Выделим пользователей, закончивших обучение. И сформируем датафреймы по каждому из этапов. Удалим дубликаты, там где это необходимо."
   ]
  },
  {
   "cell_type": "code",
   "execution_count": 290,
   "metadata": {},
   "outputs": [
    {
     "name": "stdout",
     "output_type": "stream",
     "text": [
      "Проверка единичности события tutorial_start:  True\n",
      "Проверка единичности события tutorial_finish:  True\n"
     ]
    }
   ],
   "source": [
    "# пользователи, закончившие обучение\n",
    "users_with_finished_tutorial = total_events_df[total_events_df['group'] == 'Завершили обучение']['user_id'].unique()\n",
    "\n",
    "# этап регистрации\n",
    "users_with_finished_tutorial_df_registration = total_events_df[(total_events_df['event_type'] == 'registration') & (total_events_df['user_id'].isin(users_with_finished_tutorial))]\n",
    "users_with_finished_tutorial_df_registration = users_with_finished_tutorial_df_registration[['user_id','start_time']].rename(columns={'start_time':'registration_time'})\n",
    "# этап старта обучения\n",
    "users_with_finished_tutorial_df_tutorial_start = total_events_df[(total_events_df['event_type'] == 'tutorial_start') & (total_events_df['user_id'].isin(users_with_finished_tutorial))]\n",
    "users_with_finished_tutorial_df_tutorial_start = users_with_finished_tutorial_df_tutorial_start.sort_values(\"start_time\").drop_duplicates(\"user_id\")\n",
    "print(\"Проверка единичности события tutorial_start: \", (users_with_finished_tutorial_df_tutorial_start['user_id'].value_counts().mean()) == 1)\n",
    "users_with_finished_tutorial_df_tutorial_start = users_with_finished_tutorial_df_tutorial_start[['user_id','start_time']].rename(columns={'start_time':'tutorial_start_time'})\n",
    "# этап финиша обучения\n",
    "users_with_finished_tutorial_df_tutorial_finish = total_events_df[(total_events_df['event_type'] == 'tutorial_finish') & (total_events_df['user_id'].isin(users_with_finished_tutorial))]\n",
    "users_with_finished_tutorial_df_tutorial_finish = users_with_finished_tutorial_df_tutorial_finish.sort_values(\"start_time\").drop_duplicates(\"user_id\")\n",
    "print(\"Проверка единичности события tutorial_finish: \", (users_with_finished_tutorial_df_tutorial_finish['user_id'].value_counts().mean()) == 1)\n",
    "users_with_finished_tutorial_df_tutorial_finish = users_with_finished_tutorial_df_tutorial_finish[['user_id','start_time']].rename(columns={'start_time':'tutorial_finish_time'})\n",
    "# этап выбора уровня сложности\n",
    "users_with_finished_tutorial_df_level_choice = total_events_df[(total_events_df['event_type'] == 'level_choice') & (total_events_df['user_id'].isin(users_with_finished_tutorial))]\n",
    "users_with_finished_tutorial_df_level_choice = users_with_finished_tutorial_df_level_choice[['user_id','start_time']].rename(columns={'start_time':'level_choice_time'})\n",
    "# этап выбора пакетов вопросов\n",
    "users_with_finished_tutorial_df_pack_choice = total_events_df[(total_events_df['event_type'] == 'pack_choice') & (total_events_df['user_id'].isin(users_with_finished_tutorial))]\n",
    "users_with_finished_tutorial_df_pack_choice = users_with_finished_tutorial_df_pack_choice[['user_id','start_time']].rename(columns={'start_time':'pack_choice_time'})\n",
    "# этап покупки доппакетов\n",
    "purchase_df_of_users_with_with_finished_tutorial = purchase_df[purchase_df['user_id'].isin(users_with_finished_tutorial)]\n",
    "purchase_df_of_users_with_with_finished_tutorial = purchase_df_of_users_with_with_finished_tutorial[['user_id','event_datetime']].rename(columns={'event_datetime':'purchase_time'})"
   ]
  },
  {
   "cell_type": "markdown",
   "metadata": {},
   "source": [
    "Найдем разницу во времени между этапами для пользователей, закончивших обучение."
   ]
  },
  {
   "cell_type": "code",
   "execution_count": 291,
   "metadata": {},
   "outputs": [
    {
     "name": "stdout",
     "output_type": "stream",
     "text": [
      "Среднее время между регистрацией и стартом обучения для пользователей, закончивших обучение: 0 days 04:31:04.938146341\n",
      "Среднее время между стартом и окончанием обучения для пользователей, закончивших обучение: 0 days 00:12:13.823121951\n",
      "Среднее время между окончанием обучения и выбором уровня сложности для пользователей, закончивших обучение: 0 days 02:19:46.959472070\n",
      "Среднее время между выбором выбором уровня сложности и пакета вопросов для пользователей, закончивших обучение: 0 days 00:05:18.146058732\n",
      "Среднее время между выбором пакета вопросов и оплатой доппакетов для пользователей, закончивших обучение: 3 days 17:17:59.641326883\n"
     ]
    }
   ],
   "source": [
    "# разница во времени\n",
    "merged_df_1_finished = users_with_finished_tutorial_df_registration.merge(users_with_finished_tutorial_df_tutorial_start, on=\"user_id\", how=\"inner\")\n",
    "merged_df_1_finished['timedelta'] = merged_df_1_finished['tutorial_start_time'] - merged_df_1_finished['registration_time']\n",
    "mean_timedelta_merged_df_1_finished = merged_df_1_finished['timedelta'].mean()\n",
    "print ('Среднее время между регистрацией и стартом обучения для пользователей, закончивших обучение: {}'.format(mean_timedelta_merged_df_1_finished))\n",
    "mean_timedelta_merged_df_1_finished = float(mean_timedelta_merged_df_1_finished / pd.Timedelta('1 hour'))\n",
    "\n",
    "merged_df_2_finished = users_with_finished_tutorial_df_tutorial_start.merge(users_with_finished_tutorial_df_tutorial_finish, on=\"user_id\", how=\"inner\")\n",
    "merged_df_2_finished['timedelta'] = merged_df_2_finished['tutorial_finish_time'] - merged_df_2_finished['tutorial_start_time']\n",
    "mean_timedelta_merged_df_2_finished = merged_df_2_finished['timedelta'].mean()\n",
    "print ('Среднее время между стартом и окончанием обучения для пользователей, закончивших обучение: {}'.format(mean_timedelta_merged_df_2_finished))\n",
    "mean_timedelta_merged_df_2_finished = float(mean_timedelta_merged_df_2_finished / pd.Timedelta('1 hour'))\n",
    "\n",
    "merged_df_3_finished = users_with_finished_tutorial_df_tutorial_finish.merge(users_with_finished_tutorial_df_level_choice, on=\"user_id\", how=\"inner\")\n",
    "merged_df_3_finished['timedelta'] = merged_df_3_finished['level_choice_time'] - merged_df_3_finished['tutorial_finish_time']\n",
    "mean_timedelta_merged_df_3_finished = merged_df_3_finished['timedelta'].mean()\n",
    "print ('Среднее время между окончанием обучения и выбором уровня сложности для пользователей, закончивших обучение: {}'.format(mean_timedelta_merged_df_3_finished))\n",
    "mean_timedelta_merged_df_3_finished = float(mean_timedelta_merged_df_3_finished / pd.Timedelta('1 hour'))\n",
    "\n",
    "merged_df_4_finished = users_with_finished_tutorial_df_level_choice.merge(users_with_finished_tutorial_df_pack_choice, on=\"user_id\", how=\"inner\")\n",
    "merged_df_4_finished['timedelta'] = merged_df_4_finished['pack_choice_time'] - merged_df_4_finished['level_choice_time']\n",
    "mean_timedelta_merged_df_4_finished = merged_df_4_finished['timedelta'].mean()\n",
    "print ('Среднее время между выбором выбором уровня сложности и пакета вопросов для пользователей, закончивших обучение: {}'.format(mean_timedelta_merged_df_4_finished))\n",
    "mean_timedelta_merged_df_4_finished = float(mean_timedelta_merged_df_4_finished / pd.Timedelta('1 hour'))\n",
    "\n",
    "merged_df_5_finished = users_with_finished_tutorial_df_pack_choice.merge(purchase_df_of_users_with_with_finished_tutorial, on=\"user_id\", how=\"inner\")\n",
    "merged_df_5_finished['timedelta'] = merged_df_5_finished['purchase_time'] - merged_df_5_finished['pack_choice_time']\n",
    "mean_timedelta_merged_df_5_finished = merged_df_5_finished['timedelta'].mean()\n",
    "print ('Среднее время между выбором пакета вопросов и оплатой доппакетов для пользователей, закончивших обучение: {}'.format(mean_timedelta_merged_df_5_finished))\n",
    "mean_timedelta_merged_df_5_finished = float(mean_timedelta_merged_df_5_finished / pd.Timedelta('1 hour'))"
   ]
  },
  {
   "cell_type": "markdown",
   "metadata": {},
   "source": [
    "Выделим пользователей, не проходивших обучение. И сформируем датафреймы по каждому из этапов, учитывая, что бучение не производилось. Удаление дублирующих значений в данном случае не требуется."
   ]
  },
  {
   "cell_type": "code",
   "execution_count": 292,
   "metadata": {},
   "outputs": [],
   "source": [
    "# пользователи, не начинавшие обучение\n",
    "users_not_started_tutorial = total_events_df[total_events_df['group'] == 'Не начинали обучение']['user_id'].unique()\n",
    "\n",
    "# этап регистрации\n",
    "users_not_started_tutorial_df_registration = total_events_df[(total_events_df['event_type'] == 'registration') & (total_events_df['user_id'].isin(users_not_started_tutorial))]\n",
    "users_not_started_tutorial_df_registration = users_not_started_tutorial_df_registration[['user_id','start_time']].rename(columns={'start_time':'registration_time'})\n",
    "# этап выбора уровня сложности\n",
    "users_not_started_tutorial_df_level_choice = total_events_df[(total_events_df['event_type'] == 'level_choice') & (total_events_df['user_id'].isin(users_not_started_tutorial))]\n",
    "users_not_started_tutorial_df_level_choice = users_not_started_tutorial_df_level_choice[['user_id','start_time']].rename(columns={'start_time':'level_choice_time'})\n",
    "# этап выбора пакетов вопросов\n",
    "users_not_started_tutorial_df_pack_choice = total_events_df[(total_events_df['event_type'] == 'pack_choice') & (total_events_df['user_id'].isin(users_not_started_tutorial))]\n",
    "users_not_started_tutorial_df_pack_choice = users_not_started_tutorial_df_pack_choice[['user_id','start_time']].rename(columns={'start_time':'pack_choice_time'})\n",
    "# этап покупки доппакетов\n",
    "purchase_df_of_users_with_not_started_tutorial = purchase_df[purchase_df['user_id'].isin(users_not_started_tutorial)]\n",
    "purchase_df_of_users_with_not_started_tutorial = purchase_df_of_users_with_not_started_tutorial[['user_id','event_datetime']].rename(columns={'event_datetime':'purchase_time'})"
   ]
  },
  {
   "cell_type": "markdown",
   "metadata": {},
   "source": [
    "Найдем разницу во времени между этапами для пользователей, не проходивших обучение."
   ]
  },
  {
   "cell_type": "code",
   "execution_count": 293,
   "metadata": {},
   "outputs": [
    {
     "name": "stdout",
     "output_type": "stream",
     "text": [
      "Среднее время между выбором выбором уровня сложности и пакета вопросов для пользователей, не начинавших обучение: 0 days 00:05:23.824324324\n",
      "Среднее время между выбором пакета вопросов и оплатой доппакетов для пользователей, не начинавших обучение: 4 days 04:49:33.590909090\n"
     ]
    }
   ],
   "source": [
    "# разница во времени\n",
    "merged_df_4_not_started = users_not_started_tutorial_df_level_choice.merge(users_not_started_tutorial_df_pack_choice, on=\"user_id\", how=\"inner\")\n",
    "merged_df_4_not_started['timedelta'] = merged_df_4_not_started['pack_choice_time'] - merged_df_4_not_started['level_choice_time']\n",
    "mean_timedelta_merged_df_4_not_started = merged_df_4_not_started['timedelta'].mean()\n",
    "print ('Среднее время между выбором выбором уровня сложности и пакета вопросов для пользователей, не начинавших обучение: {}'.format(mean_timedelta_merged_df_4_not_started))\n",
    "mean_timedelta_merged_df_4_not_started = mean_timedelta_merged_df_4_not_started / pd.Timedelta('1 hour')\n",
    "\n",
    "merged_df_5_not_started = users_not_started_tutorial_df_pack_choice.merge(purchase_df_of_users_with_not_started_tutorial, on=\"user_id\", how=\"inner\")\n",
    "merged_df_5_not_started['timedelta'] = merged_df_5_not_started['purchase_time'] - merged_df_5_not_started['pack_choice_time']\n",
    "mean_timedelta_merged_df_5_not_started = merged_df_5_not_started['timedelta'].mean()\n",
    "print ('Среднее время между выбором пакета вопросов и оплатой доппакетов для пользователей, не начинавших обучение: {}'.format(mean_timedelta_merged_df_5_not_started))\n",
    "mean_timedelta_merged_df_5_not_started = mean_timedelta_merged_df_5_not_started / pd.Timedelta('1 hour')"
   ]
  },
  {
   "cell_type": "markdown",
   "metadata": {},
   "source": [
    "Составим графики.\n",
    "График для пользователей, закончивших обычение:"
   ]
  },
  {
   "cell_type": "code",
   "execution_count": 294,
   "metadata": {},
   "outputs": [
    {
     "data": {
      "image/png": "[encoded data removed]",
      "text/plain": [
       "<Figure size 1296x288 with 2 Axes>"
      ]
     },
     "metadata": {
      "needs_background": "light"
     },
     "output_type": "display_data"
    }
   ],
   "source": [
    "import matplotlib.pyplot as plt\n",
    "%matplotlib inline\n",
    "\n",
    "mean_timedelta_finished = [\n",
    "    mean_timedelta_merged_df_1_finished, \n",
    "    mean_timedelta_merged_df_2_finished, \n",
    "    mean_timedelta_merged_df_3_finished, \n",
    "    mean_timedelta_merged_df_4_finished, \n",
    "    #mean_timedelta_merged_df_5_finished\n",
    "]\n",
    "\n",
    "name = [\n",
    "    'регистрация->старт обучения', \n",
    "    'старт обучения->окончание обучения', \n",
    "    'окончание обучения->выбор сложности', \n",
    "    'выбор сложности->выбор вопросов', \n",
    "    #'выбор вопросов->оплата'\n",
    "]\n",
    "\n",
    "#визуализация главного графика\n",
    "fig = plt.figure(figsize=(18, 4))\n",
    "main_axes = fig.add_axes([0, 0, 1, 1])\n",
    "main_axes.bar(x = name, height = mean_timedelta_finished);\n",
    "main_axes.set_ylabel('Среднее время между этапами в часах')\n",
    "main_axes.set_title('Среднее время между этапами для прошедших обучение')\n",
    "#визуализация вспомогательного графика\n",
    "insert_axes = fig.add_axes([0.75, 0.6, 0.2, 0.38])\n",
    "insert_axes.bar(x = 'выбор вопросов->оплата', height = mean_timedelta_merged_df_5_finished, width=0.5);\n",
    "insert_axes.set_ylabel('В часах')\n",
    "insert_axes.xaxis.set_tick_params()"
   ]
  },
  {
   "cell_type": "markdown",
   "metadata": {},
   "source": [
    "График для пользователей, не начинавших обычение:"
   ]
  },
  {
   "cell_type": "code",
   "execution_count": 295,
   "metadata": {},
   "outputs": [
    {
     "data": {
      "image/png": "[encoded data removed]",
      "text/plain": [
       "<Figure size 936x288 with 2 Axes>"
      ]
     },
     "metadata": {
      "needs_background": "light"
     },
     "output_type": "display_data"
    }
   ],
   "source": [
    "import matplotlib.pyplot as plt\n",
    "%matplotlib inline\n",
    "\n",
    "mean_timedelta_not_started = [\n",
    "    mean_timedelta_merged_df_4_not_started, \n",
    "    #mean_timedelta_merged_df_5_not_started\n",
    "]\n",
    "\n",
    "name_2 = [\n",
    "    'выбор сложности->выбор вопросов', \n",
    "    #'выбор вопросов->оплата'\n",
    "]\n",
    "\n",
    "#визуализация главного графика\n",
    "fig = plt.figure(figsize=(13, 4))\n",
    "main_axes = fig.add_axes([0, 0, 1, 1])\n",
    "main_axes.bar(x = name_2, height = mean_timedelta_not_started)\n",
    "main_axes.set_ylabel('Среднее время между этапами в часах')\n",
    "main_axes.set_title('Среднее время между этапами для не прошедших обучение')\n",
    "#визуализация вспомогательного графика\n",
    "insert_axes = fig.add_axes([0.7, 0.5, 0.2, 0.38])\n",
    "insert_axes.bar(x = 'выбор вопросов->оплата', height = mean_timedelta_merged_df_5_not_started, width=0.5);\n",
    "insert_axes.set_ylabel('В часах')\n",
    "insert_axes.xaxis.set_tick_params()"
   ]
  },
  {
   "cell_type": "markdown",
   "metadata": {},
   "source": [
    "### ВЫВОД"
   ]
  },
  {
   "cell_type": "markdown",
   "metadata": {},
   "source": [
    "Сравнив среднее время между прохождением этапов у пользоватлей проходивших и не проходивших обучение, можно сказать, что пользователи, прошедшие обучение осуществляют оплату дополнительного пакета вопросов в среднем на 11 часов быстрее, чем пользователи, не проходившие обучение (т.е. быстрее на 11%)."
   ]
  },
  {
   "cell_type": "markdown",
   "metadata": {},
   "source": [
    "\n",
    "\n",
    "\n",
    "\n",
    "\n",
    "Проверим, существует ли зависимость между вероятностью оплаты вопросов и количеством обучений, которые начинал или завершал пользователь. \n",
    "Сформируем группы пользователей начавших обучение и закончивших обучение, добавим колонку с информацией об оплате по каждому пользователю, сгруппируем пользователей еще раз их количеству событий."
   ]
  },
  {
   "cell_type": "markdown",
   "metadata": {},
   "source": [
    "Для группы пользователей, начавших обучение:"
   ]
  },
  {
   "cell_type": "code",
   "execution_count": 296,
   "metadata": {},
   "outputs": [
    {
     "name": "stdout",
     "output_type": "stream",
     "text": [
      "   count_start  users  clients    percent\n",
      "0            1   9103     1207  13.259365\n",
      "1            2   1589      218  13.719320\n",
      "2            3    427       51  11.943794\n",
      "3            4    221       30  13.574661\n",
      "4            5    109       16  14.678899\n",
      "5            6    116       14  12.068966\n",
      "6            7     94       12  12.765957\n",
      "7            8     86       13  15.116279\n",
      "8            9    113       17  15.044248\n"
     ]
    }
   ],
   "source": [
    "count_users_with_started_tutorial = total_events_df[total_events_df[\"event_type\"] == \"tutorial_start\"].groupby(by='user_id')['user_id'].agg(count_start='count')\n",
    "count_users_with_started_tutorial = count_users_with_started_tutorial.reset_index()\n",
    "users_with_purchase = purchase_df['user_id'].unique()\n",
    "count_users_with_started_tutorial['purchase_flg'] = count_users_with_started_tutorial.apply(lambda x: 1 if x['user_id'] in users_with_purchase else 0, axis=1)\n",
    "tutorial_started_df = count_users_with_started_tutorial.groupby(by='count_start').agg(\\\n",
    "                       users=pd.NamedAgg(column='user_id', aggfunc='count'),\\\n",
    "                       clients=pd.NamedAgg(column='purchase_flg', aggfunc='sum'))\n",
    "tutorial_started_df = tutorial_started_df.reset_index()\n",
    "tutorial_started_df['percent'] = tutorial_started_df['clients'] / tutorial_started_df['users'] * 100\n",
    "print(tutorial_started_df)"
   ]
  },
  {
   "cell_type": "markdown",
   "metadata": {},
   "source": [
    "Для группы пользователей, закончивших обучение:"
   ]
  },
  {
   "cell_type": "code",
   "execution_count": 297,
   "metadata": {},
   "outputs": [
    {
     "name": "stdout",
     "output_type": "stream",
     "text": [
      "   count_finish  users  clients    percent\n",
      "0             1   8015     1143  14.260761\n",
      "1             2   1321      182  13.777441\n",
      "2             3    345       44  12.753623\n",
      "3             4    178       19  10.674157\n",
      "4             5    117       19  16.239316\n",
      "5             6    101       15  14.851485\n",
      "6             7     97       15  15.463918\n",
      "7             8     54        6  11.111111\n",
      "8             9     22        4  18.181818\n"
     ]
    }
   ],
   "source": [
    "count_users_with_finished_tutorial=total_events_df[total_events_df[\"event_type\"] == \"tutorial_finish\"].groupby(by='user_id')['user_id'].agg(count_finish='count')\n",
    "count_users_with_finished_tutorial = count_users_with_finished_tutorial.reset_index()\n",
    "count_users_with_finished_tutorial['purchase_flg'] = count_users_with_finished_tutorial.apply(lambda x: 1 if x['user_id'] in users_with_purchase else 0, axis=1)\n",
    "tutorial_finished_df = count_users_with_finished_tutorial.groupby(by='count_finish').agg(\\\n",
    "                       users=pd.NamedAgg(column='user_id', aggfunc='count'),\\\n",
    "                       clients=pd.NamedAgg(column='purchase_flg', aggfunc='sum'))\n",
    "tutorial_finished_df = tutorial_finished_df.reset_index()\n",
    "tutorial_finished_df['percent'] = tutorial_finished_df['clients'] / tutorial_finished_df['users'] * 100\n",
    "print(tutorial_finished_df)"
   ]
  },
  {
   "cell_type": "markdown",
   "metadata": {},
   "source": [
    "Составим график для групп пользователей, начавших обучение."
   ]
  },
  {
   "cell_type": "code",
   "execution_count": 298,
   "metadata": {},
   "outputs": [
    {
     "data": {
      "image/png": "[encoded data removed]",
      "text/plain": [
       "<Figure size 936x288 with 1 Axes>"
      ]
     },
     "metadata": {
      "needs_background": "light"
     },
     "output_type": "display_data"
    }
   ],
   "source": [
    "import matplotlib.pyplot as plt\n",
    "%matplotlib inline\n",
    "\n",
    "count = tutorial_started_df['count_start']\n",
    "percent = tutorial_started_df['percent']\n",
    "\n",
    "#визуализация главного графика\n",
    "fig = plt.figure(figsize=(13, 4))\n",
    "main_axes = fig.add_axes([0, 0, 1, 1])\n",
    "main_axes.bar(x = count, height = percent);\n",
    "main_axes.set_ylabel('Процент оплат')\n",
    "main_axes.set_title('Группы пользователей, начавших обучения')\n",
    "#plt.xticks(count)\n",
    "#main_axes.set_xticks(count)\n",
    "main_axes.xaxis.set_major_locator(plt.MaxNLocator(10))"
   ]
  },
  {
   "cell_type": "markdown",
   "metadata": {},
   "source": [
    "Составим график для групп пользователей, закончивших обучение."
   ]
  },
  {
   "cell_type": "code",
   "execution_count": 299,
   "metadata": {},
   "outputs": [
    {
     "data": {
      "image/png": "[encoded data removed]",
      "text/plain": [
       "<Figure size 936x288 with 1 Axes>"
      ]
     },
     "metadata": {
      "needs_background": "light"
     },
     "output_type": "display_data"
    }
   ],
   "source": [
    "import matplotlib.pyplot as plt\n",
    "%matplotlib inline\n",
    "\n",
    "count = tutorial_finished_df['count_finish']\n",
    "percent = tutorial_finished_df['percent']\n",
    "\n",
    "#визуализация главного графика\n",
    "fig = plt.figure(figsize=(13, 4))\n",
    "main_axes = fig.add_axes([0, 0, 1, 1])\n",
    "main_axes.bar(x = count, height = percent);\n",
    "main_axes.set_ylabel('Процент оплат')\n",
    "main_axes.set_title('Группы пользователей, закончивших обучение')\n",
    "main_axes.xaxis.set_major_locator(plt.MaxNLocator(10))"
   ]
  },
  {
   "cell_type": "markdown",
   "metadata": {},
   "source": [
    "### ВЫВОД"
   ]
  },
  {
   "cell_type": "markdown",
   "metadata": {},
   "source": [
    "По графику для группы пользователей, начинавших обучение, видно, что процент оплативших пользователей практически одинаков во всех подгруппах по количеству начал обучения.\n",
    "По графику для группы пользователей, закончивших обучение, видно, что процент оплативших пользователей незначительно отличается в подгруппах по количеству окончаний обучения и вцелом чуть выше у тех, кто проходил обучение наибольшее количество раз.\n",
    "Исходя из вышеизложенного мы можем сделать вывод, что с количеством прохождений обучений процент оплат не снижается. Сколько бы раз пользоыватели не проходил обучение - вероятность оплат остается примерно на одном уровне."
   ]
  },
  {
   "cell_type": "markdown",
   "metadata": {},
   "source": [
    "Выясним, как часто пользователи начинают обучение после выбора уровня сложности. Разделим пользователей по группам, для каждой группы найдем количество уникальных пользователей и сформируем соответсвующие датафреймы для последующего объединения (для этого произведем замену названия колонки с временем события)."
   ]
  },
  {
   "cell_type": "code",
   "execution_count": 300,
   "metadata": {},
   "outputs": [
    {
     "name": "stdout",
     "output_type": "stream",
     "text": [
      "Проверка единичности события выбора уровня сложности: True\n"
     ]
    }
   ],
   "source": [
    "#Пользователи, выбравшие уровень сложности\n",
    "users_with_level_choice = total_events_df[total_events_df[\"event_type\"] == \"level_choice\"][\"user_id\"].unique()\n",
    "count_users_with_level_choice = len(users_with_level_choice)\n",
    "users_with_level_choice_df = total_events_df[total_events_df['event_type'] == 'level_choice']\n",
    "print('Проверка единичности события выбора уровня сложности:', (users_with_level_choice_df['user_id'].value_counts().mean()) == 1)\n",
    "users_with_level_choice_df = users_with_level_choice_df[['user_id','start_time']].rename(columns={'start_time':'level_choice_time'})\n",
    "\n",
    "#Пользователи, начавшие обучение\n",
    "users_with_tutorial_start = total_events_df[total_events_df[\"event_type\"] == \"tutorial_start\"][\"user_id\"].unique()\n",
    "count_users_with_tutorial_start = len(users_with_tutorial_start)\n",
    "users_with_tutorial_start_df = total_events_df[total_events_df['event_type'] == 'tutorial_start']\n",
    "users_with_tutorial_start_df = users_with_tutorial_start_df[['user_id','start_time']].rename(columns={'start_time':'start_tutorial_time'})\n"
   ]
  },
  {
   "cell_type": "markdown",
   "metadata": {},
   "source": [
    "Объединим датасеты. Введем признак разницы во времени 'timedelta' между стартом обучения и выбором уровня сложности. Создадим дополнительный датафрейм, отфильтровав только положительные значения 'timedelta'. Определим количество количество и процент пользователей, вернувшихся к обучению после выбора уровня сложности."
   ]
  },
  {
   "cell_type": "code",
   "execution_count": 301,
   "metadata": {},
   "outputs": [
    {
     "name": "stdout",
     "output_type": "stream",
     "text": [
      "Количество пользователей, вернувшихся к обучению после выбора уровня сложности:  1386\n",
      "Процент пользователей, вернувшихся к обучению после выбора уровня сложности (от общего количества выбравших уровень сложности): 16.61%\n"
     ]
    }
   ],
   "source": [
    "merged_df_of_users = users_with_tutorial_start_df.merge(users_with_level_choice_df,on='user_id',how='inner')\n",
    "merged_df_of_users['timedelta'] = merged_df_of_users['start_tutorial_time'] - merged_df_of_users['level_choice_time']\n",
    "\n",
    "merged_df_of_users_2 = merged_df_of_users[merged_df_of_users['timedelta'] > pd.Timedelta(0)]\n",
    "users_who_return = merged_df_of_users_2['user_id'].unique()\n",
    "count_users_who_return = len(users_who_return)\n",
    "print ('Количество пользователей, вернувшихся к обучению после выбора уровня сложности: ', count_users_who_return)\n",
    "percent_of_users = count_users_who_return / count_users_with_level_choice\n",
    "print ('Процент пользователей, вернувшихся к обучению после выбора уровня сложности (от общего количества выбравших уровень сложности): {:.2%}'.format(percent_of_users))"
   ]
  },
  {
   "cell_type": "markdown",
   "metadata": {},
   "source": [
    "Диаграмма пользователей, вернувшихся к обучению после выбора уровня сложности (от общего количества выбравших уровень сложности):"
   ]
  },
  {
   "cell_type": "code",
   "execution_count": 302,
   "metadata": {},
   "outputs": [
    {
     "data": {
      "image/png": "[encoded data removed]",
      "text/plain": [
       "<Figure size 360x360 with 1 Axes>"
      ]
     },
     "metadata": {},
     "output_type": "display_data"
    }
   ],
   "source": [
    "import matplotlib.pyplot as plt\n",
    "%matplotlib inline\n",
    "percent_ = [percent_of_users*100, float(100-percent_of_users*100)]\n",
    "labels_=['Процент вернувшихся пользователей','Процент не вернувшихся пользователей']\n",
    "fig = plt.figure(figsize=(5, 5))\n",
    "axes = fig.add_axes([0, 0, 1, 1])\n",
    "axes.pie(\n",
    "    percent_,\n",
    "    labels=labels_,\n",
    "    autopct='%.1f%%',\n",
    "    explode = [0.1, 0]\n",
    ");"
   ]
  },
  {
   "cell_type": "markdown",
   "metadata": {},
   "source": [
    "### ВЫВОД"
   ]
  },
  {
   "cell_type": "markdown",
   "metadata": {},
   "source": [
    "По диаграмме видно, что более 16% пользователей решили пройти обучение после выбора уровня сложности. Данный показатель требует дальнейшего наблюдения. Его увеличение будет означать, что процесс взаимодействия с игрой усложнен."
   ]
  }
 ],
 "metadata": {
  "interpreter": {
   "hash": "2be5faf79681da6f2a61fdfdd5405d65d042280f7fba6178067603e3a2925119"
  },
  "kernelspec": {
   "display_name": "Python 3.10.0 64-bit",
   "language": "python",
   "name": "python3"
  },
  "language_info": {
   "codemirror_mode": {
    "name": "ipython",
    "version": 3
   },
   "file_extension": ".py",
   "mimetype": "text/x-python",
   "name": "python",
   "nbconvert_exporter": "python",
   "pygments_lexer": "ipython3",
   "version": "3.9.7"
  },
  "orig_nbformat": 4
 },
 "nbformat": 4,
 "nbformat_minor": 2
}
